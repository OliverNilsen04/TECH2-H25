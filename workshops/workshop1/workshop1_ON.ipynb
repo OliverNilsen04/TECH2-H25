{
 "cells": [
  {
   "cell_type": "markdown",
   "metadata": {},
   "source": [
    "# Exercise 1: Summing lists and arrays\n",
    "\n",
    "In this exercise, we investigate another difference between built-in lists and NumPy arrays: performance.\n",
    "We do this by comparing the execution time of different implementations of the `sum()` function.\n",
    "\n",
    "1. Create a list `lst` and a NumPy array `arr`, each of them containing the sequence \n",
    "   of ten values `0, 1, 2, ..., 9`.\n",
    "\n",
    "   *Hint*: You can use the list constructor [`list()`](https://www.w3schools.com/python/ref_func_list.asp)\n",
    "   and combine it with the [`range()`](https://docs.python.org/3/library/functions.html#func-range)\n",
    "   function which returns an objecting representing a range of integers.\n",
    "\n",
    "   *Hint:* You should create the NumPy array using \n",
    "   [`np.arange()`](https://numpy.org/doc/stable/reference/generated/numpy.arange.html).\n",
    "\n",
    "2. We want to compute the sum of integers contained in `lst` and `arr`. Use \n",
    "   the built-in function [`sum()`](https://www.w3schools.com/python/ref_func_sum.asp)\n",
    "   to sum elements of a list.\n",
    "   For the NumPy array, use the NumPy function \n",
    "   [`np.sum()`](https://numpy.org/doc/stable/reference/generated/numpy.sum.html).\n",
    "\n",
    "3. You are interested in benchmarking which summing function is faster.\n",
    "    Repeat the steps from above, but use the cell magic \n",
    "    [`%timeit`](https://ipython.readthedocs.io/en/stable/interactive/magics.html#magic-timeit)\n",
    "    to time the execution of a statement as follows:\n",
    "\n",
    "    ```python\n",
    "    %timeit statement\n",
    "    ```\n",
    "\n",
    "4.  Recreate the list and array to contain 100 integers starting from 0,\n",
    "    and rerun the benchmark.\n",
    "\n",
    "5.  Recreate the list and array to contain 10,000 integers starting from 0,\n",
    "    and rerun the benchmark.\n",
    "\n",
    "\n",
    "What do you conclude about the relative performance of built-in lists \n",
    "vs. NumPy arrays?"
   ]
  },
  {
   "cell_type": "code",
   "execution_count": 16,
   "metadata": {},
   "outputs": [
    {
     "name": "stdout",
     "output_type": "stream",
     "text": [
      "59.1 μs ± 190 ns per loop (mean ± std. dev. of 7 runs, 10,000 loops each)\n"
     ]
    }
   ],
   "source": [
    "\n",
    "def summing(start, end):\n",
    "    lst=[]\n",
    "    for i in range(start, end):\n",
    "        lst.append(i)\n",
    "    final = sum(lst)\n",
    "\n",
    "    return final\n",
    "\n",
    "\n",
    "%timeit summing(0, 1000)\n",
    "\n"
   ]
  },
  {
   "cell_type": "code",
   "execution_count": 15,
   "metadata": {},
   "outputs": [
    {
     "name": "stdout",
     "output_type": "stream",
     "text": [
      "5.78 μs ± 106 ns per loop (mean ± std. dev. of 7 runs, 100,000 loops each)\n"
     ]
    }
   ],
   "source": [
    "import numpy as np\n",
    "'''\n",
    "def summing(start, end):\n",
    "\n",
    "    arr = np.arange(0, end+1)\n",
    "    final = np.sum(arr)\n",
    "\n",
    "    return final\n",
    "'''\n",
    "\n",
    "%timeit np.sum(np.arange(1, 1000))"
   ]
  },
  {
   "cell_type": "markdown",
   "metadata": {},
   "source": [
    "***\n",
    "# Exercise 2: Maximizing quadratic utility"
   ]
  },
  {
   "cell_type": "markdown",
   "metadata": {},
   "source": [
    "Assume that an individual derives utility from consuming $c$ items according to the following\n",
    "utility function $u(\\bullet)$:\n",
    "$$\n",
    "u(c) = - A (c - B)^2 + C\n",
    "$$\n",
    "\n",
    "where $A > 0$, $B > 0$ and $C$ are parameters, and $c$ is the consumption level.\n",
    "\n",
    "In this exercise, you are asked to locate the consumption level which delivers the maximum utility.\n",
    "\n",
    "1.  Define a function called `util()` which takes as arguments the consumption level `c` and \n",
    "    three additional arguments `A`, `B`, and `C` which are the parameters of $u(\\bullet)$ define above. The function should return the utility associated \n",
    "    with the given consumption level `c`.\n",
    "\n",
    "2.  Write a function `find_max_cons()` which takes as arguments a sequence of candidate consumption levels and the three parameters\n",
    "    `A`, `B`, and `C`, and returns the maximum utility as well as the consumption level at which utility is maximized.\n",
    "    The function definition should look like this:\n",
    "    ```python\n",
    "    def find_max_cons(candidates, A, B, C):\n",
    "        \"\"\"\n",
    "        Find the consumption level that maximizes utility from a \n",
    "        list of candidates.\n",
    "\n",
    "        Parameters\n",
    "        ----------\n",
    "        candidates : list or array-like\n",
    "            List of candidate consumption levels to evaluate.\n",
    "        A, B, C : float\n",
    "            Parameters of the utility function.\n",
    "\n",
    "        Returns\n",
    "        -------\n",
    "        u_max\n",
    "            Maximized utility\n",
    "        cons_max\n",
    "            Consumption at which utility is maximized\n",
    "        \"\"\"\n",
    "    ```\n",
    "\n",
    "    Your algorithm should perform the following steps:\n",
    "\n",
    "    1.  Define the variable `u_max = -np.inf` (negative infinity) as the initial value.\n",
    "    2.  Loop through all candidate consumption levels, and compute the associated utility. \n",
    "        If this utility is larger than the previous maximum value `u_max`, update `u_max` and store the associated consumption level `cons_max`.\n",
    "    3. Return `u_max` and `cons_max` after the loop terminates.\n",
    "\n",
    "1. Find the maximum:\n",
    "    1.  Create an array `cons` of 51 candidate consumption levels which are uniformly spaced on \n",
    "        the  interval $[0, 4]$.\n",
    "\n",
    "        *Hint:* Use [`np.linspace()`](https://numpy.org/doc/stable/reference/generated/numpy.linspace.html)\n",
    "        for this task.\n",
    "\n",
    "    2.  Use the parameters $A = 1$, $B=2$, and $C=10$.\n",
    "    3.  Use the function `find_max_cons()` to compute the maximum utility and the associated optimal \n",
    "        consumption level, and print the results.\n",
    "\n",
    "2. Repeat the exercise, but instead use vectorized operations from NumPy:\n",
    "    1. Compute and store the utility levels for *all* elements in `cons` at once (simply apply the formula to the whole array).\n",
    "    2. Locate the index of the maximum utility level using \n",
    "       [`np.argmax()`](https://numpy.org/doc/stable/reference/generated/numpy.argmax.html).\n",
    "    3. Use the index returned by `np.argmax()` to retrieve the maximum utility and the \n",
    "        corresponding consumption level, and print the results.\n",
    "\n"
   ]
  },
  {
   "cell_type": "code",
   "execution_count": 56,
   "metadata": {},
   "outputs": [],
   "source": [
    "def util(c, A=1, B=2, C=10):\n",
    "    if A<0:\n",
    "        print(f'Value A has to be bigger than 0')\n",
    "    \n",
    "    else:\n",
    "        if B<0:\n",
    "            print(f' Value B has to be bigger than 0')\n",
    "        \n",
    "        else:\n",
    "            u= (-A)*(c - B)**2 + C\n",
    "        return u\n",
    "\n",
    "\n"
   ]
  },
  {
   "cell_type": "code",
   "execution_count": 57,
   "metadata": {},
   "outputs": [
    {
     "data": {
      "text/plain": [
       "9.0"
      ]
     },
     "execution_count": 57,
     "metadata": {},
     "output_type": "execute_result"
    }
   ],
   "source": [
    "util(1.0)"
   ]
  },
  {
   "cell_type": "code",
   "execution_count": 58,
   "metadata": {},
   "outputs": [
    {
     "data": {
      "text/plain": [
       "array([ 9.  ,  9.19,  9.36,  9.51,  9.64,  9.75,  9.84,  9.91,  9.96,\n",
       "        9.99, 10.  ,  9.99,  9.96,  9.91,  9.84,  9.75,  9.64,  9.51,\n",
       "        9.36,  9.19,  9.  ,  8.79,  8.56,  8.31,  8.04,  7.75,  7.44,\n",
       "        7.11,  6.76,  6.39,  6.  ,  5.59,  5.16,  4.71,  4.24,  3.75,\n",
       "        3.24,  2.71,  2.16,  1.59,  1.  ,  0.39, -0.24, -0.89, -1.56,\n",
       "       -2.25, -2.96, -3.69, -4.44, -5.21, -6.  ])"
      ]
     },
     "execution_count": 58,
     "metadata": {},
     "output_type": "execute_result"
    }
   ],
   "source": [
    "import numpy as np\n",
    "\n",
    "consumption = np.linspace(1.0, 6.0, 51)\n",
    "util(consumption)"
   ]
  },
  {
   "cell_type": "code",
   "execution_count": 59,
   "metadata": {},
   "outputs": [
    {
     "data": {
      "text/plain": [
       "(50, np.float64(6.0))"
      ]
     },
     "execution_count": 59,
     "metadata": {},
     "output_type": "execute_result"
    }
   ],
   "source": [
    "def find_max_cons(candidates, A=1, B=2, C=10):\n",
    "    \n",
    "    N = len(util(candidates))\n",
    "    u_max = -np.inf\n",
    "    \n",
    "    for i in range(N):\n",
    "\n",
    "        value = candidates[i]\n",
    "\n",
    "        if value > u_max:\n",
    "            \n",
    "            imax = i\n",
    "            u_max = value\n",
    "    \n",
    "    return imax, value\n",
    "\n",
    "find_max_cons(consumption)\n",
    "   "
   ]
  },
  {
   "cell_type": "code",
   "execution_count": 60,
   "metadata": {},
   "outputs": [
    {
     "name": "stdout",
     "output_type": "stream",
     "text": [
      "[0.   0.08 0.16 0.24 0.32 0.4  0.48 0.56 0.64 0.72 0.8  0.88 0.96 1.04\n",
      " 1.12 1.2  1.28 1.36 1.44 1.52 1.6  1.68 1.76 1.84 1.92 2.   2.08 2.16\n",
      " 2.24 2.32 2.4  2.48 2.56 2.64 2.72 2.8  2.88 2.96 3.04 3.12 3.2  3.28\n",
      " 3.36 3.44 3.52 3.6  3.68 3.76 3.84 3.92 4.  ]\n"
     ]
    }
   ],
   "source": [
    "import numpy as np\n",
    "cons = np.linspace(0.0, 4.0, 51)\n",
    "print(cons)\n",
    "#find_max_cons(cons, 1, 2, 10)\n"
   ]
  },
  {
   "cell_type": "code",
   "execution_count": 66,
   "metadata": {},
   "outputs": [
    {
     "name": "stdout",
     "output_type": "stream",
     "text": [
      "The highest utility is 10.0, at a consumption level of 2.0\n"
     ]
    }
   ],
   "source": [
    "cons2 = util(cons, 1, 2, 10)\n",
    "\n",
    "index = np.argmax(cons2)\n",
    "\n",
    "top_value = cons2[index]\n",
    "top_consumption = cons[index]\n",
    "print(f'The highest utility is {top_value}, at a consumption level of {top_consumption}')\n",
    "\n"
   ]
  },
  {
   "cell_type": "code",
   "execution_count": null,
   "metadata": {},
   "outputs": [],
   "source": []
  },
  {
   "cell_type": "code",
   "execution_count": null,
   "metadata": {},
   "outputs": [],
   "source": []
  },
  {
   "cell_type": "code",
   "execution_count": null,
   "metadata": {},
   "outputs": [],
   "source": []
  }
 ],
 "metadata": {
  "kernelspec": {
   "display_name": "TECH2",
   "language": "python",
   "name": "python3"
  },
  "language_info": {
   "codemirror_mode": {
    "name": "ipython",
    "version": 3
   },
   "file_extension": ".py",
   "mimetype": "text/x-python",
   "name": "python",
   "nbconvert_exporter": "python",
   "pygments_lexer": "ipython3",
   "version": "3.13.5"
  }
 },
 "nbformat": 4,
 "nbformat_minor": 2
}
